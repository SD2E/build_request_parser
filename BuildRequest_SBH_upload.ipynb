{
 "cells": [
  {
   "cell_type": "code",
   "execution_count": 1,
   "metadata": {},
   "outputs": [],
   "source": [
    "import sbol\n",
    "import pandas as pd\n",
    "import os"
   ]
  },
  {
   "cell_type": "code",
   "execution_count": 2,
   "metadata": {},
   "outputs": [],
   "source": [
    "path_to_build_request = ''"
   ]
  },
  {
   "cell_type": "code",
   "execution_count": 3,
   "metadata": {},
   "outputs": [],
   "source": [
    "SBH_USER = ''\n",
    "SBH_PASSWORD = ''"
   ]
  },
  {
   "cell_type": "code",
   "execution_count": 4,
   "metadata": {},
   "outputs": [],
   "source": [
    "sbh_stage = sbol.PartShop('https://hub-staging.sd2e.org')\n",
    "sbh_stage.spoof(\"https://hub.sd2e.org\")\n",
    "sbh_stage.login(SBH_USER, SBH_PASSWORD)"
   ]
  },
  {
   "cell_type": "code",
   "execution_count": 6,
   "metadata": {},
   "outputs": [],
   "source": [
    "parts_doc = sbol.Document()\n",
    "\n",
    "build_excel = pd.ExcelFile(path_to_build_request)\n",
    "build_request = pd.read_excel(build_excel, 'Design')\n",
    "ontology_terms = pd.read_excel(build_excel, 'Ontology Terms', index_col=0)\n",
    "\n",
    "collection_name = build_request.loc['Collection Name:'].iloc[:1][1].values[0]\n",
    "parts_doc.name = collection_name\n",
    "parts_doc.displayId = '_'.join(collection_name.split(' '))\n",
    "collection_desc = build_request.loc['Design Description':].iloc[1:2].index[0]\n",
    "parts_doc.description = collection_desc\n",
    "\n",
    "sbol.setHomespace('https://hub-staging.sd2e.org/user/sd2e/{collection}'.format(\n",
    "    collection=parts_doc.displayId))\n",
    "\n",
    "parts_info_df = build_request.loc['Part Name':'Composite DNA Parts']\n",
    "parts_info_df.columns = parts_info_df.iloc[0]\n",
    "parts_info_df = parts_info_df.drop(parts_info_df.index[0])\n",
    "parts_info_df = parts_info_df.loc[parts_info_df.index.dropna()]\n",
    "parts_info_df = parts_info_df.drop(['Composite DNA Parts'])\n",
    "\n",
    "for part_name, part_info in parts_info_df.iterrows():\n",
    "    part_displayid = '_'.join(part_name.split(' '))\n",
    "    part_cd = sbol.ComponentDefinition(part_displayid, sbol.BIOPAX_DNA)\n",
    "    part_cd.name = part_name\n",
    "    part_cd.description = part_info['Description (Optional)']\n",
    "    \n",
    "    if not pd.isnull(part_info['Role']):\n",
    "        if part_info['Role'] in ontology_terms.index:\n",
    "            role_uri = ontology_terms.loc[part_info['Role']].values[0]\n",
    "            part_cd.roles = part_cd.roles + [role_uri]\n",
    "    \n",
    "    if not pd.isnull(part_info['Sequence']):\n",
    "        part_seq = sbol.Sequence('{}_sequence'.format(part_cd.displayId), part_info['Sequence'])\n",
    "        part_cd.sequence = part_seq\n",
    "\n",
    "    parts_doc.addComponentDefinition(part_cd)"
   ]
  },
  {
   "cell_type": "code",
   "execution_count": 140,
   "metadata": {},
   "outputs": [
    {
     "data": {
      "text/plain": [
       "<Response [200]>"
      ]
     },
     "execution_count": 140,
     "metadata": {},
     "output_type": "execute_result"
    }
   ],
   "source": [
    "sbh_stage.submit(parts_doc, sbol.getHomespace(), 0)"
   ]
  }
 ],
 "metadata": {
  "kernelspec": {
   "display_name": "Python 3",
   "language": "python",
   "name": "python3"
  },
  "language_info": {
   "codemirror_mode": {
    "name": "ipython",
    "version": 3
   },
   "file_extension": ".py",
   "mimetype": "text/x-python",
   "name": "python",
   "nbconvert_exporter": "python",
   "pygments_lexer": "ipython3",
   "version": "3.7.3"
  }
 },
 "nbformat": 4,
 "nbformat_minor": 4
}
